{
 "cells": [
  {
   "cell_type": "code",
   "execution_count": 5,
   "metadata": {},
   "outputs": [
    {
     "data": {
      "text/plain": [
       "'c:\\\\Users\\\\c624fd2\\\\notes\\\\private\\\\img_value_analyser'"
      ]
     },
     "execution_count": 5,
     "metadata": {},
     "output_type": "execute_result"
    }
   ],
   "source": [
    "\n",
    "import numpy as np\n",
    "import cv2\n",
    "import matplotlib.pyplot as plt\n",
    "import os\n",
    "import shiny\n",
    "os.getcwd()"
   ]
  },
  {
   "cell_type": "code",
   "execution_count": 11,
   "metadata": {},
   "outputs": [],
   "source": [
    "imgpath = \"./test.jpg\"\n",
    "img = cv2.imread(imgpath,0)"
   ]
  },
  {
   "cell_type": "code",
   "execution_count": null,
   "metadata": {},
   "outputs": [],
   "source": []
  },
  {
   "cell_type": "code",
   "execution_count": null,
   "metadata": {},
   "outputs": [],
   "source": []
  },
  {
   "cell_type": "code",
   "execution_count": 19,
   "metadata": {},
   "outputs": [],
   "source": [
    "# define a function to analyse grayscale values of image\n",
    "# the function takes an image as input and returns a plot with the image and the histogram\n",
    "def get_image_info(img):    \n",
    "    # first, define break points to get 10 equal sized bins\n",
    "    breaks = np.linspace(0, 255, 11)\n",
    "    # the min value of the 4th bin (index 3) is the lower threshold for midtones \n",
    "    # convert to integer to use it as index\n",
    "    mid_lower = breaks[3].min().astype(int)\n",
    "    # righthand side of the 7th bin (index 6) is the upper threshold for midtones\n",
    "    mid_upper = breaks[6].max().astype(int)\n",
    "   \n",
    "    plt.subplot(1,2,1)\n",
    "    plt.imshow(img,cmap='gray')\n",
    "    plt.title('image')\n",
    "    plt.xticks([])\n",
    "    plt.yticks([])\n",
    "\n",
    "    plt.subplot(1,2,2)\n",
    "    hist,bin = np.histogram(img.ravel(),256,[0,255])\n",
    "    plt.xlim([0,255])\n",
    "    plt.plot(hist)\n",
    "    plt.title('histogram')\n",
    "    # add vertical threshold line at midtones > 100 and < 150\n",
    "    plt.axvline(x= mid_lower, color='r', linestyle='--')\n",
    "    plt.axvline(x=mid_upper, color='r', linestyle='--')\n",
    "    # fill area under the curve between 100 and 150\n",
    "    plt.fill_between(bin[mid_lower:mid_upper], hist[mid_lower:mid_upper], color='grey', alpha=0.5)\n",
    "    # fill area under the curve between 0 and 100\n",
    "    plt.fill_between(bin[:mid_lower], hist[:mid_lower], color='black', alpha=0.7)\n",
    "    # calculate the area under the curve between 100 and 150 with the relative area size\n",
    "    area_midtone = np.sum(hist[mid_lower:mid_upper]) / np.sum(hist)\n",
    "    area_lights = np.sum(hist[:mid_lower]) / np.sum(hist)\n",
    "    area_darks = np.sum(hist[mid_upper:]) / np.sum(hist)\n",
    "    # add text to the plot in percentage\n",
    "    # calculate lower quantile of the y-axis to place the text in the middle of the plot\n",
    "    ymid = np.quantile(hist, 0.5)\n",
    "    plt.text(mid_lower+5, ymid, str(round(area_midtone*100, 2)) + '%', color='red', fontdict={'size': 8})\n",
    "    plt.text(10, ymid, str(round(area_lights*100, 2)) + '%', color='red', fontdict={'size': 8})\n",
    "    plt.text(mid_upper+5, ymid, str(round(area_darks*100, 2)) + '%', color='red', fontdict={'size': 8})\n",
    "    # return the plot   \n",
    "    return  plt.show()\n",
    "\n",
    "\n"
   ]
  },
  {
   "cell_type": "code",
   "execution_count": 22,
   "metadata": {},
   "outputs": [],
   "source": [
    "from shiny import App, render, ui\n",
    "import matplotlib.pyplot as plt\n",
    "import numpy as np\n",
    "\n",
    "# Nest Python functions to build an HTML interface\n",
    "app_ui = ui.page_fluid( # Layout the UI with Layout Functions\n",
    "    ui.title(\"Image Analysis\"), # Add a title to the app\n",
    "  # interface to upload an ige\n",
    "    ui.input_file(\"img\", \"Upload an image\"),\n",
    " # assign user input to a variable\n",
    "    ui.button(\"Submit\"),\n",
    "  # Add Output plot to the UI\n",
    "  ui.output_plot(\"get_image_info\") # Add a plot to the app\n",
    ")\n",
    "\n",
    "def server(input, output, session):\n",
    "  \n",
    "  # For each output, define a function that generates the output\n",
    "  @render.plot # Specify the type of output with a @render. decorator\n",
    "  def get_image_info(): # Use the output id as the function name\n",
    "    # pass the uploaded image to the function get_image_info\n",
    "    img = cv2.imread(input.img(),0)\n",
    "    # define a function to analyse grayscale values of image\n",
    "    #    the function takes an image as input and returns a plot with the image and the histogram  \n",
    "    # first, define break points to get 10 equal sized bins\n",
    "    breaks = np.linspace(0, 255, 11)\n",
    "    # the min value of the 4th bin (index 3) is the lower threshold for midtones \n",
    "    # convert to integer to use it as index\n",
    "    mid_lower = breaks[3].min().astype(int)\n",
    "    # righthand side of the 7th bin (index 6) is the upper threshold for midtones\n",
    "    mid_upper = breaks[6].max().astype(int)\n",
    "   \n",
    "    plt.subplot(1,2,1)\n",
    "    plt.imshow(img,cmap='gray')\n",
    "    plt.title('image')\n",
    "    plt.xticks([])\n",
    "    plt.yticks([])\n",
    "\n",
    "    plt.subplot(1,2,2)\n",
    "    hist,bin = np.histogram(img.ravel(),256,[0,255])\n",
    "    plt.xlim([0,255])\n",
    "    plt.plot(hist)\n",
    "    plt.title('histogram')\n",
    "    # add vertical threshold line at midtones > 100 and < 150\n",
    "    plt.axvline(x= mid_lower, color='r', linestyle='--')\n",
    "    plt.axvline(x=mid_upper, color='r', linestyle='--')\n",
    "    # fill area under the curve between 100 and 150\n",
    "    plt.fill_between(bin[mid_lower:mid_upper], hist[mid_lower:mid_upper], color='grey', alpha=0.5)\n",
    "    # fill area under the curve between 0 and 100\n",
    "    plt.fill_between(bin[:mid_lower], hist[:mid_lower], color='black', alpha=0.7)\n",
    "    # calculate the area under the curve between 100 and 150 with the relative area size\n",
    "    area_midtone = np.sum(hist[mid_lower:mid_upper]) / np.sum(hist)\n",
    "    area_lights = np.sum(hist[:mid_lower]) / np.sum(hist)\n",
    "    area_darks = np.sum(hist[mid_upper:]) / np.sum(hist)\n",
    "    # add text to the plot in percentage\n",
    "    # calculate lower quantile of the y-axis to place the text in the middle of the plot\n",
    "    ymid = np.quantile(hist, 0.5)\n",
    "    plt.text(mid_lower+5, ymid, str(round(area_midtone*100, 2)) + '%', color='red', fontdict={'size': 8})\n",
    "    plt.text(10, ymid, str(round(area_lights*100, 2)) + '%', color='red', fontdict={'size': 8})\n",
    "    plt.text(mid_upper+5, ymid, str(round(area_darks*100, 2)) + '%', color='red', fontdict={'size': 8})\n",
    "    # return the plot   \n",
    "    return  plt.show()\n",
    "\n",
    "\n",
    "# Call App() to combine app_ui and server() into an interactive app\n",
    "app = App(app_ui, server)\n"
   ]
  },
  {
   "cell_type": "code",
   "execution_count": 23,
   "metadata": {},
   "outputs": [
    {
     "ename": "SyntaxError",
     "evalue": "invalid syntax. Perhaps you forgot a comma? (4263914539.py, line 1)",
     "output_type": "error",
     "traceback": [
      "\u001b[1;36m  Cell \u001b[1;32mIn[23], line 1\u001b[1;36m\u001b[0m\n\u001b[1;33m    shiny run app --reload\u001b[0m\n\u001b[1;37m          ^\u001b[0m\n\u001b[1;31mSyntaxError\u001b[0m\u001b[1;31m:\u001b[0m invalid syntax. Perhaps you forgot a comma?\n"
     ]
    }
   ],
   "source": [
    "shiny run app --reload"
   ]
  }
 ],
 "metadata": {
  "kernelspec": {
   "display_name": "Python 3",
   "language": "python",
   "name": "python3"
  },
  "language_info": {
   "codemirror_mode": {
    "name": "ipython",
    "version": 3
   },
   "file_extension": ".py",
   "mimetype": "text/x-python",
   "name": "python",
   "nbconvert_exporter": "python",
   "pygments_lexer": "ipython3",
   "version": "3.10.0"
  }
 },
 "nbformat": 4,
 "nbformat_minor": 2
}
